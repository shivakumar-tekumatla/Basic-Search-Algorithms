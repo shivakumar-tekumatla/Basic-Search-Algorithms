{
 "cells": [
  {
   "cell_type": "code",
   "execution_count": 32,
   "metadata": {},
   "outputs": [
    {
     "data": {
      "text/plain": [
       "{(0, 0): [[0, 1]],\n",
       " (0, 1): [[0, 2], [0, 0]],\n",
       " (0, 2): [[0, 3], [0, 1]],\n",
       " (0, 3): [[0, 4], [0, 2]],\n",
       " (0, 4): [[0, 5], [0, 3]],\n",
       " (0, 5): [[0, 6], [0, 4]],\n",
       " (0, 6): [[0, 7], [0, 5]],\n",
       " (0, 7): [[0, 6]],\n",
       " (0, 9): [[1, 9]],\n",
       " (1, 9): [[2, 9], [0, 9]],\n",
       " (2, 0): [[2, 1], [3, 0]],\n",
       " (2, 1): [[2, 2], [3, 1], [2, 0]],\n",
       " (2, 2): [[2, 3], [3, 2], [2, 1]],\n",
       " (2, 3): [[2, 4], [2, 2]],\n",
       " (2, 4): [[2, 5], [2, 3]],\n",
       " (2, 5): [[2, 6], [2, 4]],\n",
       " (2, 6): [[2, 7], [2, 5]],\n",
       " (2, 7): [[2, 6]],\n",
       " (2, 9): [[3, 9], [1, 9]],\n",
       " (3, 0): [[3, 1], [4, 0], [2, 0]],\n",
       " (3, 1): [[3, 2], [3, 0], [2, 1]],\n",
       " (3, 2): [[4, 2], [3, 1], [2, 2]],\n",
       " (3, 9): [[4, 9], [2, 9]],\n",
       " (4, 0): [[5, 0], [3, 0]],\n",
       " (4, 2): [[5, 2], [3, 2]],\n",
       " (4, 4): [[4, 5], [5, 4]],\n",
       " (4, 5): [[4, 6], [4, 4]],\n",
       " (4, 6): [[4, 7], [4, 5]],\n",
       " (4, 7): [[4, 8], [4, 6]],\n",
       " (4, 8): [[4, 9], [4, 7]],\n",
       " (4, 9): [[5, 9], [4, 8], [3, 9]],\n",
       " (5, 0): [[6, 0], [4, 0]],\n",
       " (5, 2): [[6, 2], [4, 2]],\n",
       " (5, 4): [[6, 4], [4, 4]],\n",
       " (5, 9): [[6, 9], [4, 9]],\n",
       " (6, 0): [[7, 0], [5, 0]],\n",
       " (6, 2): [[6, 3], [5, 2]],\n",
       " (6, 3): [[6, 4], [6, 2]],\n",
       " (6, 4): [[7, 4], [6, 3], [5, 4]],\n",
       " (6, 9): [[7, 9], [5, 9]],\n",
       " (7, 0): [[8, 0], [6, 0]],\n",
       " (7, 4): [[7, 5], [8, 4], [6, 4]],\n",
       " (7, 5): [[7, 6], [8, 5], [7, 4]],\n",
       " (7, 6): [[8, 6], [7, 5]],\n",
       " (7, 9): [[8, 9], [6, 9]],\n",
       " (8, 0): [[8, 1], [9, 0], [7, 0]],\n",
       " (8, 1): [[8, 2], [9, 1], [8, 0]],\n",
       " (8, 2): [[8, 3], [9, 2], [8, 1]],\n",
       " (8, 3): [[8, 4], [9, 3], [8, 2]],\n",
       " (8, 4): [[8, 5], [9, 4], [8, 3], [7, 4]],\n",
       " (8, 5): [[8, 6], [9, 5], [8, 4], [7, 5]],\n",
       " (8, 6): [[9, 6], [8, 5], [7, 6]],\n",
       " (8, 8): [[8, 9], [9, 8]],\n",
       " (8, 9): [[9, 9], [8, 8], [7, 9]],\n",
       " (9, 0): [[9, 1], [8, 0]],\n",
       " (9, 1): [[9, 2], [9, 0], [8, 1]],\n",
       " (9, 2): [[9, 3], [9, 1], [8, 2]],\n",
       " (9, 3): [[9, 4], [9, 2], [8, 3]],\n",
       " (9, 4): [[9, 5], [9, 3], [8, 4]],\n",
       " (9, 5): [[9, 6], [9, 4], [8, 5]],\n",
       " (9, 6): [[9, 7], [9, 5], [8, 6]],\n",
       " (9, 7): [[9, 8], [9, 6]],\n",
       " (9, 8): [[9, 9], [9, 7], [8, 8]],\n",
       " (9, 9): [[9, 8], [8, 9]]}"
      ]
     },
     "execution_count": 32,
     "metadata": {},
     "output_type": "execute_result"
    }
   ],
   "source": [
    "from search import graph \n",
    "from main import load_map\n",
    "grid, start, goal = load_map('test_map_2.csv')\n",
    "graph(grid)"
   ]
  },
  {
   "cell_type": "code",
   "execution_count": 34,
   "metadata": {},
   "outputs": [
    {
     "data": {
      "text/plain": [
       "[5, 2]"
      ]
     },
     "execution_count": 34,
     "metadata": {},
     "output_type": "execute_result"
    }
   ],
   "source": [
    "goal"
   ]
  },
  {
   "cell_type": "code",
   "execution_count": 11,
   "metadata": {},
   "outputs": [
    {
     "ename": "TypeError",
     "evalue": "'dict_keys' object is not subscriptable",
     "output_type": "error",
     "traceback": [
      "\u001b[0;31m---------------------------------------------------------------------------\u001b[0m",
      "\u001b[0;31mTypeError\u001b[0m                                 Traceback (most recent call last)",
      "\u001b[0;32m<ipython-input-11-db4f93957848>\u001b[0m in \u001b[0;36m<module>\u001b[0;34m\u001b[0m\n\u001b[1;32m      1\u001b[0m \u001b[0mll\u001b[0m\u001b[0;34m=\u001b[0m\u001b[0mk\u001b[0m\u001b[0;34m.\u001b[0m\u001b[0mkeys\u001b[0m\u001b[0;34m(\u001b[0m\u001b[0;34m)\u001b[0m\u001b[0;34m\u001b[0m\u001b[0;34m\u001b[0m\u001b[0m\n\u001b[0;32m----> 2\u001b[0;31m \u001b[0mll\u001b[0m\u001b[0;34m[\u001b[0m\u001b[0;36m0\u001b[0m\u001b[0;34m]\u001b[0m\u001b[0;34m\u001b[0m\u001b[0;34m\u001b[0m\u001b[0m\n\u001b[0m",
      "\u001b[0;31mTypeError\u001b[0m: 'dict_keys' object is not subscriptable"
     ]
    }
   ],
   "source": [
    "ll=k.keys()\n"
   ]
  },
  {
   "cell_type": "code",
   "execution_count": 9,
   "metadata": {},
   "outputs": [
    {
     "name": "stdout",
     "output_type": "stream",
     "text": [
      "[[0, 1], [1, 0]]\n",
      "[[0, 2], [1, 1], [0, 0]]\n",
      "[[1, 2], [0, 1]]\n",
      "[[1, 1], [2, 0], [0, 0]]\n",
      "[[1, 2], [1, 0], [0, 1]]\n",
      "[[2, 2], [1, 1], [0, 2]]\n",
      "[[3, 0], [1, 0]]\n",
      "[[2, 3], [3, 2], [1, 2]]\n",
      "[[3, 3], [2, 2]]\n",
      "[[3, 1], [2, 0]]\n",
      "[[3, 2], [3, 0]]\n",
      "[[3, 3], [3, 1], [2, 2]]\n",
      "[[3, 2], [2, 3]]\n"
     ]
    }
   ],
   "source": [
    "for ll in k.keys():\n",
    "    print(k[ll])"
   ]
  },
  {
   "cell_type": "code",
   "execution_count": 12,
   "metadata": {},
   "outputs": [
    {
     "name": "stdout",
     "output_type": "stream",
     "text": [
      "No path found\n"
     ]
    }
   ],
   "source": [
    "from main import load_map\n",
    "from search import bfs\n",
    "grid, start, goal = load_map('test_map.csv')\n",
    "bfs_path, bfs_steps = bfs(grid, start, goal)"
   ]
  },
  {
   "cell_type": "code",
   "execution_count": 15,
   "metadata": {},
   "outputs": [
    {
     "data": {
      "text/plain": [
       "{(0, 0): [[0, 1], [1, 0]],\n",
       " (0, 1): [[0, 2], [1, 1], [0, 0]],\n",
       " (0, 2): [[1, 2], [0, 1]],\n",
       " (1, 0): [[1, 1], [2, 0], [0, 0]],\n",
       " (1, 1): [[1, 2], [1, 0], [0, 1]],\n",
       " (1, 2): [[2, 2], [1, 1], [0, 2]],\n",
       " (2, 0): [[3, 0], [1, 0]],\n",
       " (2, 2): [[2, 3], [3, 2], [1, 2]],\n",
       " (2, 3): [[3, 3], [2, 2]],\n",
       " (3, 0): [[3, 1], [2, 0]],\n",
       " (3, 1): [[3, 2], [3, 0]],\n",
       " (3, 2): [[3, 3], [3, 1], [2, 2]],\n",
       " (3, 3): [[3, 2], [2, 3]]}"
      ]
     },
     "execution_count": 15,
     "metadata": {},
     "output_type": "execute_result"
    }
   ],
   "source": [
    "graph_nodes = graph(grid)\n",
    "queue =[]\n",
    "path = []\n",
    "steps = 0\n",
    "found = False\n",
    "\n",
    "graph_nodes"
   ]
  },
  {
   "cell_type": "code",
   "execution_count": 26,
   "metadata": {},
   "outputs": [
    {
     "name": "stdout",
     "output_type": "stream",
     "text": [
      "[[0, 0]]\n",
      "It takes 10 steps to find a path using BFS\n"
     ]
    }
   ],
   "source": [
    "queue =[]\n",
    "path = []\n",
    "steps = 0\n",
    "found = False\n",
    "for node in graph_nodes.keys():\n",
    "    queue.append(list(node))\n",
    "    break\n",
    "print(queue)\n",
    "for item in queue:\n",
    "    if item not in path:\n",
    "        path.append(item)\n",
    "        steps+=1\n",
    "        for val in graph_nodes[tuple(item)]:\n",
    "            queue.append(val)\n",
    "        if item ==goal:\n",
    "            found = True\n",
    "            break\n",
    "\n",
    "if found:\n",
    "    print(f\"It takes {steps} steps to find a path using BFS\")\n",
    "else:\n",
    "    print(\"No path found\")"
   ]
  },
  {
   "cell_type": "code",
   "execution_count": 27,
   "metadata": {},
   "outputs": [
    {
     "data": {
      "text/plain": [
       "13"
      ]
     },
     "execution_count": 27,
     "metadata": {},
     "output_type": "execute_result"
    }
   ],
   "source": [
    "len(graph_nodes)"
   ]
  },
  {
   "cell_type": "code",
   "execution_count": 28,
   "metadata": {},
   "outputs": [
    {
     "data": {
      "text/plain": [
       "[3, 1]"
      ]
     },
     "execution_count": 28,
     "metadata": {},
     "output_type": "execute_result"
    }
   ],
   "source": [
    "goal"
   ]
  },
  {
   "cell_type": "code",
   "execution_count": 31,
   "metadata": {},
   "outputs": [
    {
     "name": "stdout",
     "output_type": "stream",
     "text": [
      "It takes 10 steps to find a path using BFS\n"
     ]
    }
   ],
   "source": [
    "if found:\n",
    "        print(f\"It takes {steps} steps to find a path using BFS\")\n",
    "else:\n",
    "    print(\"No path found\")"
   ]
  },
  {
   "cell_type": "code",
   "execution_count": 2,
   "metadata": {},
   "outputs": [],
   "source": [
    "from search import get_parent\n",
    "from main import load_map\n",
    "from search import graph \n",
    "grid, start, goal = load_map('test_map.csv')"
   ]
  },
  {
   "cell_type": "code",
   "execution_count": 3,
   "metadata": {},
   "outputs": [],
   "source": [
    "nodes = graph(grid)"
   ]
  },
  {
   "cell_type": "code",
   "execution_count": 10,
   "metadata": {},
   "outputs": [],
   "source": [
    "def get_parent(nodes,child):\n",
    "    keys = [k for k, v in nodes.items() if child in v]\n",
    "    if keys:\n",
    "        return keys[0]\n",
    "    return None"
   ]
  },
  {
   "cell_type": "code",
   "execution_count": 9,
   "metadata": {},
   "outputs": [
    {
     "name": "stdout",
     "output_type": "stream",
     "text": [
      "(0, 0) [[0, 1], [1, 0]]\n",
      "(0, 1) [[0, 2], [1, 1], [0, 0]]\n",
      "(0, 2) [[1, 2], [0, 1]]\n",
      "(1, 0) [[1, 1], [2, 0], [0, 0]]\n",
      "(1, 1) [[1, 2], [1, 0], [0, 1]]\n",
      "(1, 2) [[2, 2], [1, 1], [0, 2]]\n",
      "(2, 0) [[3, 0], [1, 0]]\n",
      "(2, 2) [[2, 3], [3, 2], [1, 2]]\n",
      "(2, 3) [[3, 3], [2, 2]]\n",
      "(3, 0) [[3, 1], [2, 0]]\n",
      "(3, 1) [[3, 2], [3, 0]]\n",
      "(3, 2) [[3, 3], [3, 1], [2, 2]]\n",
      "(3, 3) [[3, 2], [2, 3]]\n"
     ]
    }
   ],
   "source": [
    "print(get_parent(nodes,[0,1]))\n",
    "# keys = [k for k, v in nodes.items() if v == [1,1]]\n",
    "# keys\n",
    "# for k,v in nodes.items():\n",
    "#     print(k,v)"
   ]
  }
 ],
 "metadata": {
  "interpreter": {
   "hash": "31f2aee4e71d21fbe5cf8b01ff0e069b9275f58929596ceb00d14d90e3e16cd6"
  },
  "kernelspec": {
   "display_name": "Python 3.8.2 64-bit",
   "language": "python",
   "name": "python3"
  },
  "language_info": {
   "codemirror_mode": {
    "name": "ipython",
    "version": 3
   },
   "file_extension": ".py",
   "mimetype": "text/x-python",
   "name": "python",
   "nbconvert_exporter": "python",
   "pygments_lexer": "ipython3",
   "version": "3.8.2"
  },
  "orig_nbformat": 4
 },
 "nbformat": 4,
 "nbformat_minor": 2
}
