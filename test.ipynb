{
 "cells": [
  {
   "cell_type": "code",
   "execution_count": 14,
   "metadata": {},
   "outputs": [],
   "source": [
    "from search import graph \n",
    "from main import load_map\n",
    "grid, start, goal = load_map('test_map.csv')"
   ]
  },
  {
   "cell_type": "code",
   "execution_count": 11,
   "metadata": {},
   "outputs": [
    {
     "data": {
      "text/plain": [
       "{'[0, 0]': [[0, 1], [1, 0]],\n",
       " '[0, 1]': [[0, 2], [0, 0], [1, 1]],\n",
       " '[0, 2]': [[0, 1], [1, 2]],\n",
       " '[0, 3]': [[0, 2]],\n",
       " '[1, 0]': [[1, 1], [0, 0], [2, 0]],\n",
       " '[1, 1]': [[1, 2], [0, 1], [1, 0]],\n",
       " '[1, 2]': [[0, 2], [1, 1], [2, 2]],\n",
       " '[1, 3]': [[1, 2], [2, 3]],\n",
       " '[2, 0]': [[1, 0], [3, 0]],\n",
       " '[2, 1]': [[2, 2], [1, 1], [2, 0], [3, 1]],\n",
       " '[2, 2]': [[2, 3], [1, 2], [3, 2]],\n",
       " '[2, 3]': [[2, 2], [3, 3]],\n",
       " '[3, 0]': [[3, 1], [2, 0]],\n",
       " '[3, 1]': [[3, 2], [3, 0]],\n",
       " '[3, 2]': [[3, 3], [2, 2], [3, 1]],\n",
       " '[3, 3]': [[2, 3], [3, 2]]}"
      ]
     },
     "execution_count": 11,
     "metadata": {},
     "output_type": "execute_result"
    }
   ],
   "source": [
    "graph(grid)"
   ]
  }
 ],
 "metadata": {
  "interpreter": {
   "hash": "31f2aee4e71d21fbe5cf8b01ff0e069b9275f58929596ceb00d14d90e3e16cd6"
  },
  "kernelspec": {
   "display_name": "Python 3.8.2 64-bit",
   "language": "python",
   "name": "python3"
  },
  "language_info": {
   "codemirror_mode": {
    "name": "ipython",
    "version": 3
   },
   "file_extension": ".py",
   "mimetype": "text/x-python",
   "name": "python",
   "nbconvert_exporter": "python",
   "pygments_lexer": "ipython3",
   "version": "3.8.2"
  },
  "orig_nbformat": 4
 },
 "nbformat": 4,
 "nbformat_minor": 2
}
